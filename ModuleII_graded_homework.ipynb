{
 "metadata": {
  "name": "",
  "signature": "sha256:1daa77d5c0f580de1463654e1470f257fcb79e8230a069c38d6179cb68dc2980"
 },
 "nbformat": 3,
 "nbformat_minor": 0,
 "worksheets": [
  {
   "cells": [
    {
     "cell_type": "code",
     "collapsed": false,
     "input": [
      "import numpy\n",
      "import matplotlib.pyplot as plt\n",
      "%matplotlib inline\n",
      "from matplotlib import rcParams\n",
      "rcParams ['font.family']='serif'\n",
      "rcParams ['font.size']=16\n",
      "\n",
      "#def fwt_bws(dt):\n",
      "nx=101\n",
      "dx=.2\n",
      "#dx=.02\n",
      "nt=25\n",
      "c=4.\n",
      "dt=.05\n",
      "u=numpy.ones(nx)\n",
      "u[.5/dx : 1/dx+1]=2\n",
      "#print(u)\n",
      "for n in range (nt):\n",
      "    un=u.copy()\n",
      "    for i in range (1,nx):\n",
      "        u[i]=un[i]-c*dt/dx*(un[i]-un[i-1])\n",
      "        #print u[i]\n",
      "    #print \"***********\"\n",
      "    #print dx\n",
      "plt.plot(numpy.linspace(0,2,nx),u,ls='--',lw=1)\n",
      "plt.ylim(0,2.5)\n",
      "#for k in range (100):\n",
      "#    dt=0+k/10000\n",
      "#    fwt_bws(dt)"
     ],
     "language": "python",
     "metadata": {},
     "outputs": [
      {
       "metadata": {},
       "output_type": "pyout",
       "prompt_number": 30,
       "text": [
        "(0, 2.5)"
       ]
      },
      {
       "metadata": {},
       "output_type": "display_data",
       "png": "[encoded data removed]",
       "text": [
        "<matplotlib.figure.Figure at 0x7ffd8e681d90>"
       ]
      }
     ],
     "prompt_number": 30
    },
    {
     "cell_type": "code",
     "collapsed": false,
     "input": [
      "import sympy\n",
      "from sympy import init_printing\n",
      "init_printing()\n",
      "x = sympy.symbols ('x')\n",
      "y = (sympy.cos(x))**2*(sympy.sin(x))**3/(4*x**5*sympy.exp(x))\n",
      "y\n",
      "yprime = y.diff(x)\n",
      "yprime\n",
      "from sympy.utilities.lambdify import lambdify\n",
      "answer = lambdify((x), yprime)\n",
      "print(\"The value of answer at x=2.2 is {}.\".format(answer(2.2)))\n"
     ],
     "language": "python",
     "metadata": {},
     "outputs": [
      {
       "latex": [
        "$$- \\frac{\\sin^{4}{\\left (x \\right )}}{2 x^{5}} e^{- x} \\cos{\\left (x \\right )} - \\frac{\\cos^{2}{\\left (x \\right )}}{4 x^{5}} e^{- x} \\sin^{3}{\\left (x \\right )} + \\frac{3 e^{- x}}{4 x^{5}} \\sin^{2}{\\left (x \\right )} \\cos^{3}{\\left (x \\right )} - \\frac{5 e^{- x}}{4 x^{6}} \\sin^{3}{\\left (x \\right )} \\cos^{2}{\\left (x \\right )}$$"
       ],
       "metadata": {},
       "output_type": "pyout",
       "png": "[encoded data removed]",
       "prompt_number": 51,
       "text": [
        "   -x    4              -x    3       2         -x    2       3         -x    \n",
        "  \u212f  \u22c5sin (x)\u22c5cos(x)   \u212f  \u22c5sin (x)\u22c5cos (x)   3\u22c5\u212f  \u22c5sin (x)\u22c5cos (x)   5\u22c5\u212f  \u22c5sin\n",
        "- \u2500\u2500\u2500\u2500\u2500\u2500\u2500\u2500\u2500\u2500\u2500\u2500\u2500\u2500\u2500\u2500\u2500\u2500 - \u2500\u2500\u2500\u2500\u2500\u2500\u2500\u2500\u2500\u2500\u2500\u2500\u2500\u2500\u2500\u2500\u2500\u2500\u2500 + \u2500\u2500\u2500\u2500\u2500\u2500\u2500\u2500\u2500\u2500\u2500\u2500\u2500\u2500\u2500\u2500\u2500\u2500\u2500\u2500\u2500 - \u2500\u2500\u2500\u2500\u2500\u2500\u2500\u2500\u2500\n",
        "            5                     5                      5                    \n",
        "         2\u22c5x                   4\u22c5x                    4\u22c5x                     \n",
        "\n",
        "3       2   \n",
        " (x)\u22c5cos (x)\n",
        "\u2500\u2500\u2500\u2500\u2500\u2500\u2500\u2500\u2500\u2500\u2500\u2500\n",
        "   6        \n",
        "4\u22c5x         "
       ]
      }
     ],
     "prompt_number": 51
    },
    {
     "cell_type": "code",
     "collapsed": false,
     "input": [
      "V_max = 80./3600. #km/s\n",
      "L = 11. #km\n",
      "rho_max = 250. #cars/km\n",
      "nx = 51\n",
      "dx = L/(nx-1) #km\n",
      "t=180. #s\n",
      "nt = 1001\n",
      "dt = t/(nt-1) #s\n",
      "n = 0\n",
      "i=1\n",
      "rho = numpy.empty (nx)\n",
      "F = numpy.empty (nx)\n",
      "rhon = numpy.empty (nx)\n",
      "V = numpy.empty (nx)\n",
      "\n",
      "x = numpy.linspace(0,L,nx)\n",
      "rho0 = numpy.ones(nx)*10\n",
      "rho0[10:20] = 50\n",
      "rho=rho0.copy()\n",
      "#print rho0\n",
      "#print rho\n",
      "\n",
      "for n in range (nt):\n",
      "    i=1\n",
      "    for i in range (nx):\n",
      "        rhon[i]=rho[i-1]\n",
      "        if rhon[i]>=rho_max:\n",
      "            rhon[i]=rho_max\n",
      "    rhon[0]=10\n",
      "    rho=abs(rho+V_max*dt/dx*(rhon-rho)+V_max/rho_max*dt/dx*(rhon-rho)**2)\n",
      "    i=0\n",
      "    for i in range (nx):\n",
      "        if rho[i]>=rho_max:\n",
      "            rho[i]=rho_max\n",
      "    V=abs(V_max*(1-rho/rho_max)*1000) #m/s\n",
      "    i=0\n",
      "    for i in range (nx):\n",
      "        if V[i]>=(V_max*1000):\n",
      "            V[i]=(V_max*1000)\n",
      "    V_min=min(V)\n",
      "    V_ave=average(V)\n",
      "print rho\n",
      "print V\n",
      "print V_min\n",
      "print V_ave\n"
     ],
     "language": "python",
     "metadata": {},
     "outputs": [
      {
       "output_type": "stream",
       "stream": "stdout",
       "text": [
        "[ 10.          10.          10.          10.          10.          10.          10.\n",
        "  10.          10.          10.          10.          10.          10.          10.\n",
        "  10.          10.          10.          10.          10.          10.\n",
        "  10.00000001   9.99999997  10.00000014   9.99999937  10.00000284\n",
        "   9.99998723  10.00005746   9.99974142  10.00116377   9.99476654\n",
        "  10.02362072   9.89523179  10.49238851   8.64645215  14.98521569\n",
        "   9.10776982  15.           9.15906455  15.           9.16566455  15.\n",
        "   9.16653421  15.           9.16664915  15.           9.16666435  15.\n",
        "   9.16666636  15.           9.16666663  15.        ]\n",
        "[ 666.66666667  666.66666667  666.66666667  666.66666667  666.66666667\n",
        "  666.66666667  666.66666667  666.66666667  666.66666667  666.66666667\n",
        "  666.66666667  666.66666667  666.66666667  666.66666667  666.66666667\n",
        "  666.66666667  666.66666666  666.66666668  666.66666662  666.66666687\n",
        "  666.66666574  666.66667082  666.66664798  666.66675075  666.66628831\n",
        "  666.66836928  666.65900484  666.70114373  666.51149677  667.36446172\n",
        "  663.51723758  680.63576172  601.01486573  847.13971317    1.97124181\n",
        "  785.63069034    0.          778.79139381    0.          777.91139331\n",
        "    0.          777.79543871    0.          777.78011298    0.\n",
        "  777.77808656    0.          777.77781861    0.          777.77778318\n",
        "    0.        ]\n",
        "0.0\n",
        "569.139066097\n"
       ]
      }
     ],
     "prompt_number": 1
    },
    {
     "cell_type": "code",
     "collapsed": false,
     "input": [
      "V_max = 136./3600. #km/s\n",
      "L = 11. #km\n",
      "rho_max = 250. #cars/km\n",
      "nx = 51\n",
      "dx = L/(nx-1) #km\n",
      "t=180 #s\n",
      "dt = 3.6 #s\n",
      "nt=51\n",
      "n = 0\n",
      "i=1\n",
      "rho = numpy.empty (nx)\n",
      "F = numpy.empty (nx)\n",
      "rhon = numpy.empty (nx)\n",
      "V = numpy.empty (nx)\n",
      "\n",
      "x = numpy.linspace(0,L,nx)\n",
      "rho0 = numpy.ones(nx)*20 ##note this change\n",
      "rho0[10:20] = 50\n",
      "\n",
      "rho=rho0.copy()\n",
      "#print rho0\n",
      "#print rho\n",
      "\n",
      "for n in range (nt):\n",
      "    i=1\n",
      "    for i in range (nx):\n",
      "        rhon[i]=rho[i-1]\n",
      "        if rhon[i]>=rho_max:\n",
      "            rhon[i]=rho_max\n",
      "    rhon[0]=20\n",
      "    rho=rho+V_max*dt/dx*(rhon-rho)+V_max/rho_max*dt/dx*(rhon-rho)**2\n",
      "    i=0\n",
      "    for i in range (nx):\n",
      "        if rho[i]>=rho_max:\n",
      "            rho[i]=rho_max\n",
      "    V=V_max*(1-rho/rho_max)*1000 #m/s\n",
      "    i=0\n",
      "    for i in range (nx):\n",
      "        if V[i]>=(V_max*1000):\n",
      "            V[i]=(V_max*1000)\n",
      "    V_min=min(V)\n",
      "    V_ave=average(V)\n",
      "print rho\n",
      "print V\n",
      "print V_min\n",
      "print V_ave"
     ],
     "language": "python",
     "metadata": {},
     "outputs": [
      {
       "output_type": "stream",
       "stream": "stdout",
       "text": [
        "[ 20.          20.          20.          20.          20.          20.          20.\n",
        "  20.          20.          20.          20.          20.          20.00000001\n",
        "  20.00000009  20.00000107  20.00000961  20.00006956  20.00041627\n",
        "  20.00210071  20.00907155  20.0339004   20.11058795  20.31698389\n",
        "  20.80204364  21.79666044  23.57041745  26.31121072  29.97528373\n",
        "  34.22565227  38.53202955  42.36641322  45.36325959  47.3713278\n",
        "  48.40454508  48.53954024  47.81959807  46.21807546  43.68260667\n",
        "  40.23715214  36.08822707  31.66965865  27.56421398  24.29420232\n",
        "  22.09697419  20.86621857  20.29701621  20.08237208  20.01776494\n",
        "  20.00279529  20.00028533  20.00001417]\n",
        "[ 34.75555556  34.75555556  34.75555556  34.75555556  34.75555556\n",
        "  34.75555556  34.75555556  34.75555556  34.75555556  34.75555556\n",
        "  34.75555556  34.75555556  34.75555555  34.75555554  34.75555539\n",
        "  34.7555541   34.75554504  34.75549265  34.75523812  34.75418474\n",
        "  34.75043283  34.73884449  34.70765577  34.63435785  34.4840602\n",
        "  34.21602581  33.80186149  33.24817935  32.60590143  31.95515998\n",
        "  31.375742    30.92288522  30.6194438   30.46331319  30.44291392\n",
        "  30.55170518  30.79371304  31.17685055  31.69749701  32.32444569\n",
        "  32.99214047  33.61251878  34.10665387  34.43867946  34.6246603\n",
        "  34.71067311  34.74310822  34.75287108  34.75513316  34.75551244\n",
        "  34.75555341]\n",
        "30.4429139187\n",
        "33.7817223705\n"
       ]
      }
     ],
     "prompt_number": 8
    },
    {
     "cell_type": "code",
     "collapsed": false,
     "input": [],
     "language": "python",
     "metadata": {},
     "outputs": []
    }
   ],
   "metadata": {}
  }
 ]
}